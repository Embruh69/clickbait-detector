{
 "cells": [
  {
   "cell_type": "code",
   "execution_count": 43,
   "id": "9d44e140-06bc-4729-af0e-94b5b55a0234",
   "metadata": {},
   "outputs": [],
   "source": [
    "import numpy as np\n",
    "import pandas as pd\n",
    "import matplotlib.pyplot as plt\n",
    "import tensorflow as tf\n",
    "import re\n",
    "\n",
    "from imblearn.over_sampling import SMOTE, RandomOverSampler\n",
    "\n",
    "from sklearn.model_selection import train_test_split\n",
    "from sklearn.feature_extraction.text import CountVectorizer\n",
    "from sklearn.metrics import confusion_matrix\n",
    "from mlxtend.plotting import plot_confusion_matrix\n",
    "\n",
    "from tensorflow.keras.models import Sequential\n",
    "from tensorflow.keras.layers import Embedding, LSTM, Dense, Dropout, GlobalMaxPooling1D\n",
    "from tensorflow.keras.preprocessing.text import Tokenizer\n",
    "from tensorflow.keras.preprocessing.sequence import pad_sequences\n",
    "from tensorflow.keras.callbacks import ModelCheckpoint, EarlyStopping"
   ]
  },
  {
   "cell_type": "code",
   "execution_count": 2,
   "id": "dcbd3375-56aa-4ebc-a535-0f7633dd047a",
   "metadata": {},
   "outputs": [
    {
     "data": {
      "text/html": [
       "<div>\n",
       "<style scoped>\n",
       "    .dataframe tbody tr th:only-of-type {\n",
       "        vertical-align: middle;\n",
       "    }\n",
       "\n",
       "    .dataframe tbody tr th {\n",
       "        vertical-align: top;\n",
       "    }\n",
       "\n",
       "    .dataframe thead th {\n",
       "        text-align: right;\n",
       "    }\n",
       "</style>\n",
       "<table border=\"1\" class=\"dataframe\">\n",
       "  <thead>\n",
       "    <tr style=\"text-align: right;\">\n",
       "      <th></th>\n",
       "      <th>Title</th>\n",
       "      <th>Videourl</th>\n",
       "      <th>Category</th>\n",
       "      <th>Description</th>\n",
       "    </tr>\n",
       "  </thead>\n",
       "  <tbody>\n",
       "    <tr>\n",
       "      <th>0</th>\n",
       "      <td>Madagascar Street Food!!! Super RARE Malagasy ...</td>\n",
       "      <td>/watch?v=EwBA1fOQ96c</td>\n",
       "      <td>Food</td>\n",
       "      <td>🎥GIANT ALIEN SNAIL IN JAPAN! » https://youtu.b...</td>\n",
       "    </tr>\n",
       "    <tr>\n",
       "      <th>1</th>\n",
       "      <td>42 Foods You Need To Eat Before You Die</td>\n",
       "      <td>/watch?v=0SPwwpruGIA</td>\n",
       "      <td>Food</td>\n",
       "      <td>This is the ultimate must-try food bucket list...</td>\n",
       "    </tr>\n",
       "    <tr>\n",
       "      <th>2</th>\n",
       "      <td>Gordon Ramsay’s Top 5 Indian Dishes</td>\n",
       "      <td>/watch?v=upfu5nQB2ks</td>\n",
       "      <td>Food</td>\n",
       "      <td>We found 5 of the best and most interesting In...</td>\n",
       "    </tr>\n",
       "    <tr>\n",
       "      <th>3</th>\n",
       "      <td>How To Use Chopsticks - In About A Minute 🍜</td>\n",
       "      <td>/watch?v=xFRzzSF_6gk</td>\n",
       "      <td>Food</td>\n",
       "      <td>You're most likely sitting in a restaurant wit...</td>\n",
       "    </tr>\n",
       "    <tr>\n",
       "      <th>4</th>\n",
       "      <td>Trying Indian Food 1st Time!</td>\n",
       "      <td>/watch?v=K79bXtaRwcM</td>\n",
       "      <td>Food</td>\n",
       "      <td>HELP SUPPORT SINSTV!! Shop Our Sponsors!\\nLast...</td>\n",
       "    </tr>\n",
       "    <tr>\n",
       "      <th>...</th>\n",
       "      <td>...</td>\n",
       "      <td>...</td>\n",
       "      <td>...</td>\n",
       "      <td>...</td>\n",
       "    </tr>\n",
       "    <tr>\n",
       "      <th>11206</th>\n",
       "      <td>art journal | shimmer sprays, stencils, collag...</td>\n",
       "      <td>/watch?v=mJBOQr_-8_Y</td>\n",
       "      <td>Art&amp;Music</td>\n",
       "      <td>Step by step video on creating an art journal ...</td>\n",
       "    </tr>\n",
       "    <tr>\n",
       "      <th>11207</th>\n",
       "      <td>Ar-Tea Collage * Mixed Media Art</td>\n",
       "      <td>/watch?v=GOihUhnZxtw</td>\n",
       "      <td>Art&amp;Music</td>\n",
       "      <td>By: Ilene McInnes,\\nMixed media Art and inspir...</td>\n",
       "    </tr>\n",
       "    <tr>\n",
       "      <th>11208</th>\n",
       "      <td>DIY Mixed Media Art Collage Greeting Cards / M...</td>\n",
       "      <td>/watch?v=BchUtLfjews</td>\n",
       "      <td>Art&amp;Music</td>\n",
       "      <td>Make your own Mixed Media Greeting Cards\\n\\nHe...</td>\n",
       "    </tr>\n",
       "    <tr>\n",
       "      <th>11209</th>\n",
       "      <td>Art Collage Process DecoJournal using Rice Pap...</td>\n",
       "      <td>/watch?v=FlQ_j-cflQc</td>\n",
       "      <td>Art&amp;Music</td>\n",
       "      <td>Art Collage Process DecoJournal using Rice Pap...</td>\n",
       "    </tr>\n",
       "    <tr>\n",
       "      <th>11210</th>\n",
       "      <td>Journal Collage Process using Magazine Cut Out...</td>\n",
       "      <td>/watch?v=OakWQvYMP4w</td>\n",
       "      <td>Art&amp;Music</td>\n",
       "      <td>Using magazine, scrapbook paper, recycled old ...</td>\n",
       "    </tr>\n",
       "  </tbody>\n",
       "</table>\n",
       "<p>11211 rows × 4 columns</p>\n",
       "</div>"
      ],
      "text/plain": [
       "                                                   Title  \\\n",
       "0      Madagascar Street Food!!! Super RARE Malagasy ...   \n",
       "1                42 Foods You Need To Eat Before You Die   \n",
       "2                    Gordon Ramsay’s Top 5 Indian Dishes   \n",
       "3            How To Use Chopsticks - In About A Minute 🍜   \n",
       "4                           Trying Indian Food 1st Time!   \n",
       "...                                                  ...   \n",
       "11206  art journal | shimmer sprays, stencils, collag...   \n",
       "11207                   Ar-Tea Collage * Mixed Media Art   \n",
       "11208  DIY Mixed Media Art Collage Greeting Cards / M...   \n",
       "11209  Art Collage Process DecoJournal using Rice Pap...   \n",
       "11210  Journal Collage Process using Magazine Cut Out...   \n",
       "\n",
       "                   Videourl   Category  \\\n",
       "0      /watch?v=EwBA1fOQ96c       Food   \n",
       "1      /watch?v=0SPwwpruGIA       Food   \n",
       "2      /watch?v=upfu5nQB2ks       Food   \n",
       "3      /watch?v=xFRzzSF_6gk       Food   \n",
       "4      /watch?v=K79bXtaRwcM       Food   \n",
       "...                     ...        ...   \n",
       "11206  /watch?v=mJBOQr_-8_Y  Art&Music   \n",
       "11207  /watch?v=GOihUhnZxtw  Art&Music   \n",
       "11208  /watch?v=BchUtLfjews  Art&Music   \n",
       "11209  /watch?v=FlQ_j-cflQc  Art&Music   \n",
       "11210  /watch?v=OakWQvYMP4w  Art&Music   \n",
       "\n",
       "                                             Description  \n",
       "0      🎥GIANT ALIEN SNAIL IN JAPAN! » https://youtu.b...  \n",
       "1      This is the ultimate must-try food bucket list...  \n",
       "2      We found 5 of the best and most interesting In...  \n",
       "3      You're most likely sitting in a restaurant wit...  \n",
       "4      HELP SUPPORT SINSTV!! Shop Our Sponsors!\\nLast...  \n",
       "...                                                  ...  \n",
       "11206  Step by step video on creating an art journal ...  \n",
       "11207  By: Ilene McInnes,\\nMixed media Art and inspir...  \n",
       "11208  Make your own Mixed Media Greeting Cards\\n\\nHe...  \n",
       "11209  Art Collage Process DecoJournal using Rice Pap...  \n",
       "11210  Using magazine, scrapbook paper, recycled old ...  \n",
       "\n",
       "[11211 rows x 4 columns]"
      ]
     },
     "execution_count": 2,
     "metadata": {},
     "output_type": "execute_result"
    }
   ],
   "source": [
    "df = pd.read_csv('./data/ytcb.csv')\n",
    "df"
   ]
  },
  {
   "cell_type": "code",
   "execution_count": 3,
   "id": "53340e9e-7f6f-42fb-afb1-143d7b229bcc",
   "metadata": {},
   "outputs": [],
   "source": [
    "def label_clickbait(title):\n",
    "    clickbait_keywords = [\"shocking\", \"you won't believe\", \"amazing\", \"powerful\", \"unbelievable\", \"exclusive\",'top','the best','rare', 'best', 'insane', 'crazy', 'challenge']\n",
    "    forbidden_patterns = [\n",
    "        r'\\d+\\s+foods\\s+you\\s+need\\s+to\\s+eat\\s+before\\s+you\\s+die',\n",
    "        r'\\d+\\s+food\\s+you\\s+need\\s+to\\s+eat\\s+in\\s+your\\s+lifetime',\n",
    "    ]\n",
    "    \n",
    "    for keyword in clickbait_keywords:\n",
    "        if keyword in title.lower():\n",
    "            return 1\n",
    "\n",
    "    for pattern in forbidden_patterns:\n",
    "        if re.search(pattern, title, re.IGNORECASE):\n",
    "            return 1\n",
    "            \n",
    "    if title.isupper():\n",
    "        return 1\n",
    "        \n",
    "    return 0"
   ]
  },
  {
   "cell_type": "code",
   "execution_count": 4,
   "id": "8bfd310b-1b0f-4fbf-b93c-c3f975ce816e",
   "metadata": {},
   "outputs": [],
   "source": [
    "df['Clickbait'] = df['Title'].apply(label_clickbait)"
   ]
  },
  {
   "cell_type": "code",
   "execution_count": 5,
   "id": "eb2cd8d3-f496-41d5-a695-c71c6a70a47a",
   "metadata": {},
   "outputs": [
    {
     "data": {
      "text/html": [
       "<div>\n",
       "<style scoped>\n",
       "    .dataframe tbody tr th:only-of-type {\n",
       "        vertical-align: middle;\n",
       "    }\n",
       "\n",
       "    .dataframe tbody tr th {\n",
       "        vertical-align: top;\n",
       "    }\n",
       "\n",
       "    .dataframe thead th {\n",
       "        text-align: right;\n",
       "    }\n",
       "</style>\n",
       "<table border=\"1\" class=\"dataframe\">\n",
       "  <thead>\n",
       "    <tr style=\"text-align: right;\">\n",
       "      <th></th>\n",
       "      <th>Title</th>\n",
       "      <th>Videourl</th>\n",
       "      <th>Category</th>\n",
       "      <th>Description</th>\n",
       "      <th>Clickbait</th>\n",
       "    </tr>\n",
       "  </thead>\n",
       "  <tbody>\n",
       "    <tr>\n",
       "      <th>0</th>\n",
       "      <td>Madagascar Street Food!!! Super RARE Malagasy ...</td>\n",
       "      <td>/watch?v=EwBA1fOQ96c</td>\n",
       "      <td>Food</td>\n",
       "      <td>🎥GIANT ALIEN SNAIL IN JAPAN! » https://youtu.b...</td>\n",
       "      <td>1</td>\n",
       "    </tr>\n",
       "    <tr>\n",
       "      <th>1</th>\n",
       "      <td>42 Foods You Need To Eat Before You Die</td>\n",
       "      <td>/watch?v=0SPwwpruGIA</td>\n",
       "      <td>Food</td>\n",
       "      <td>This is the ultimate must-try food bucket list...</td>\n",
       "      <td>1</td>\n",
       "    </tr>\n",
       "    <tr>\n",
       "      <th>2</th>\n",
       "      <td>Gordon Ramsay’s Top 5 Indian Dishes</td>\n",
       "      <td>/watch?v=upfu5nQB2ks</td>\n",
       "      <td>Food</td>\n",
       "      <td>We found 5 of the best and most interesting In...</td>\n",
       "      <td>1</td>\n",
       "    </tr>\n",
       "    <tr>\n",
       "      <th>3</th>\n",
       "      <td>How To Use Chopsticks - In About A Minute 🍜</td>\n",
       "      <td>/watch?v=xFRzzSF_6gk</td>\n",
       "      <td>Food</td>\n",
       "      <td>You're most likely sitting in a restaurant wit...</td>\n",
       "      <td>0</td>\n",
       "    </tr>\n",
       "    <tr>\n",
       "      <th>4</th>\n",
       "      <td>Trying Indian Food 1st Time!</td>\n",
       "      <td>/watch?v=K79bXtaRwcM</td>\n",
       "      <td>Food</td>\n",
       "      <td>HELP SUPPORT SINSTV!! Shop Our Sponsors!\\nLast...</td>\n",
       "      <td>0</td>\n",
       "    </tr>\n",
       "    <tr>\n",
       "      <th>...</th>\n",
       "      <td>...</td>\n",
       "      <td>...</td>\n",
       "      <td>...</td>\n",
       "      <td>...</td>\n",
       "      <td>...</td>\n",
       "    </tr>\n",
       "    <tr>\n",
       "      <th>11206</th>\n",
       "      <td>art journal | shimmer sprays, stencils, collag...</td>\n",
       "      <td>/watch?v=mJBOQr_-8_Y</td>\n",
       "      <td>Art&amp;Music</td>\n",
       "      <td>Step by step video on creating an art journal ...</td>\n",
       "      <td>0</td>\n",
       "    </tr>\n",
       "    <tr>\n",
       "      <th>11207</th>\n",
       "      <td>Ar-Tea Collage * Mixed Media Art</td>\n",
       "      <td>/watch?v=GOihUhnZxtw</td>\n",
       "      <td>Art&amp;Music</td>\n",
       "      <td>By: Ilene McInnes,\\nMixed media Art and inspir...</td>\n",
       "      <td>0</td>\n",
       "    </tr>\n",
       "    <tr>\n",
       "      <th>11208</th>\n",
       "      <td>DIY Mixed Media Art Collage Greeting Cards / M...</td>\n",
       "      <td>/watch?v=BchUtLfjews</td>\n",
       "      <td>Art&amp;Music</td>\n",
       "      <td>Make your own Mixed Media Greeting Cards\\n\\nHe...</td>\n",
       "      <td>0</td>\n",
       "    </tr>\n",
       "    <tr>\n",
       "      <th>11209</th>\n",
       "      <td>Art Collage Process DecoJournal using Rice Pap...</td>\n",
       "      <td>/watch?v=FlQ_j-cflQc</td>\n",
       "      <td>Art&amp;Music</td>\n",
       "      <td>Art Collage Process DecoJournal using Rice Pap...</td>\n",
       "      <td>0</td>\n",
       "    </tr>\n",
       "    <tr>\n",
       "      <th>11210</th>\n",
       "      <td>Journal Collage Process using Magazine Cut Out...</td>\n",
       "      <td>/watch?v=OakWQvYMP4w</td>\n",
       "      <td>Art&amp;Music</td>\n",
       "      <td>Using magazine, scrapbook paper, recycled old ...</td>\n",
       "      <td>0</td>\n",
       "    </tr>\n",
       "  </tbody>\n",
       "</table>\n",
       "<p>11211 rows × 5 columns</p>\n",
       "</div>"
      ],
      "text/plain": [
       "                                                   Title  \\\n",
       "0      Madagascar Street Food!!! Super RARE Malagasy ...   \n",
       "1                42 Foods You Need To Eat Before You Die   \n",
       "2                    Gordon Ramsay’s Top 5 Indian Dishes   \n",
       "3            How To Use Chopsticks - In About A Minute 🍜   \n",
       "4                           Trying Indian Food 1st Time!   \n",
       "...                                                  ...   \n",
       "11206  art journal | shimmer sprays, stencils, collag...   \n",
       "11207                   Ar-Tea Collage * Mixed Media Art   \n",
       "11208  DIY Mixed Media Art Collage Greeting Cards / M...   \n",
       "11209  Art Collage Process DecoJournal using Rice Pap...   \n",
       "11210  Journal Collage Process using Magazine Cut Out...   \n",
       "\n",
       "                   Videourl   Category  \\\n",
       "0      /watch?v=EwBA1fOQ96c       Food   \n",
       "1      /watch?v=0SPwwpruGIA       Food   \n",
       "2      /watch?v=upfu5nQB2ks       Food   \n",
       "3      /watch?v=xFRzzSF_6gk       Food   \n",
       "4      /watch?v=K79bXtaRwcM       Food   \n",
       "...                     ...        ...   \n",
       "11206  /watch?v=mJBOQr_-8_Y  Art&Music   \n",
       "11207  /watch?v=GOihUhnZxtw  Art&Music   \n",
       "11208  /watch?v=BchUtLfjews  Art&Music   \n",
       "11209  /watch?v=FlQ_j-cflQc  Art&Music   \n",
       "11210  /watch?v=OakWQvYMP4w  Art&Music   \n",
       "\n",
       "                                             Description  Clickbait  \n",
       "0      🎥GIANT ALIEN SNAIL IN JAPAN! » https://youtu.b...          1  \n",
       "1      This is the ultimate must-try food bucket list...          1  \n",
       "2      We found 5 of the best and most interesting In...          1  \n",
       "3      You're most likely sitting in a restaurant wit...          0  \n",
       "4      HELP SUPPORT SINSTV!! Shop Our Sponsors!\\nLast...          0  \n",
       "...                                                  ...        ...  \n",
       "11206  Step by step video on creating an art journal ...          0  \n",
       "11207  By: Ilene McInnes,\\nMixed media Art and inspir...          0  \n",
       "11208  Make your own Mixed Media Greeting Cards\\n\\nHe...          0  \n",
       "11209  Art Collage Process DecoJournal using Rice Pap...          0  \n",
       "11210  Using magazine, scrapbook paper, recycled old ...          0  \n",
       "\n",
       "[11211 rows x 5 columns]"
      ]
     },
     "execution_count": 5,
     "metadata": {},
     "output_type": "execute_result"
    }
   ],
   "source": [
    "df"
   ]
  },
  {
   "cell_type": "code",
   "execution_count": 6,
   "id": "ed7f9271-05c9-4430-b194-b135a1a5b6cf",
   "metadata": {},
   "outputs": [
    {
     "data": {
      "text/plain": [
       "1487"
      ]
     },
     "execution_count": 6,
     "metadata": {},
     "output_type": "execute_result"
    }
   ],
   "source": [
    "df['Clickbait'].sum()"
   ]
  },
  {
   "cell_type": "code",
   "execution_count": 7,
   "id": "e43ca40d-7123-49b3-a469-8b58c9f078ce",
   "metadata": {},
   "outputs": [],
   "source": [
    "smote = SMOTE(sampling_strategy='auto')"
   ]
  },
  {
   "cell_type": "code",
   "execution_count": 8,
   "id": "a499c1cb-d512-483b-ac74-15b1a492ae1b",
   "metadata": {},
   "outputs": [],
   "source": [
    "title = df['Title'].values\n",
    "labels = df['Clickbait'].values"
   ]
  },
  {
   "cell_type": "code",
   "execution_count": 9,
   "id": "c27cbc95-994c-4cd8-b799-0ed065ebe2ea",
   "metadata": {},
   "outputs": [
    {
     "name": "stdout",
     "output_type": "stream",
     "text": [
      "(8408,) (2803,) (8408,) (2803,)\n"
     ]
    }
   ],
   "source": [
    "title_train, title_test, y_train, y_test = train_test_split(title, labels)\n",
    "print(title_train.shape, title_test.shape, y_train.shape, y_test.shape)"
   ]
  },
  {
   "cell_type": "code",
   "execution_count": 10,
   "id": "2d81a483-27b1-455e-90c8-88d6a4a3b2ec",
   "metadata": {},
   "outputs": [],
   "source": [
    "vocab_size = 5000\n",
    "maxlen = 500\n",
    "embedding_size = 32\n",
    "\n",
    "tokenizer = Tokenizer(num_words=vocab_size)\n",
    "tokenizer.fit_on_texts(title)\n",
    "\n",
    "X_train = tokenizer.texts_to_sequences(title_train)\n",
    "x_test = tokenizer.texts_to_sequences(title_test)\n",
    "\n",
    "X_train = pad_sequences(X_train, maxlen=maxlen)\n",
    "x_test = pad_sequences(x_test, maxlen=maxlen)"
   ]
  },
  {
   "cell_type": "code",
   "execution_count": 11,
   "id": "be57ea50-f470-4452-939a-f3df85fa3c29",
   "metadata": {},
   "outputs": [],
   "source": [
    "X_train_smote = X_train.reshape(X_train.shape[0], -1)\n",
    "X_resampled, y_resampled = smote.fit_resample(X_train_smote, y_train)\n",
    "X_resampled = X_resampled.reshape(X_resampled.shape[0], maxlen, -1)"
   ]
  },
  {
   "cell_type": "code",
   "execution_count": 13,
   "id": "bc6df4fe-ac86-4f37-9128-65f05a7226f6",
   "metadata": {},
   "outputs": [
    {
     "name": "stdout",
     "output_type": "stream",
     "text": [
      "Model: \"sequential\"\n",
      "_________________________________________________________________\n",
      " Layer (type)                Output Shape              Param #   \n",
      "=================================================================\n",
      " embedding (Embedding)       (None, 500, 32)           160000    \n",
      "                                                                 \n",
      " lstm (LSTM)                 (None, 500, 32)           8320      \n",
      "                                                                 \n",
      " global_max_pooling1d (Globa  (None, 32)               0         \n",
      " lMaxPooling1D)                                                  \n",
      "                                                                 \n",
      " dropout (Dropout)           (None, 32)                0         \n",
      "                                                                 \n",
      " dense (Dense)               (None, 1)                 33        \n",
      "                                                                 \n",
      "=================================================================\n",
      "Total params: 168,353\n",
      "Trainable params: 168,353\n",
      "Non-trainable params: 0\n",
      "_________________________________________________________________\n"
     ]
    }
   ],
   "source": [
    "model = Sequential()\n",
    "model.add(Embedding(vocab_size, embedding_size, input_length=maxlen))\n",
    "model.add(LSTM(32, return_sequences=True))\n",
    "model.add(GlobalMaxPooling1D())\n",
    "model.add(Dropout(0.2))\n",
    "model.add(Dense(1, activation='sigmoid'))\n",
    "model.summary()"
   ]
  },
  {
   "cell_type": "code",
   "execution_count": 14,
   "id": "cac86ca1-c89a-4ff4-b83a-2b31045bc798",
   "metadata": {},
   "outputs": [],
   "source": [
    "callbacks = [\n",
    "    EarlyStopping(\n",
    "        monitor='val_accuracy',\n",
    "        min_delta=1e-4,\n",
    "        patience=3,\n",
    "        verbose=1\n",
    "    ),\n",
    "    ModelCheckpoint(\n",
    "        filepath='weights.h5',\n",
    "        monitor='val_accuracy', \n",
    "        mode='max', \n",
    "        save_best_only=True,\n",
    "        save_weights_only=True,\n",
    "        verbose=1\n",
    "    )\n",
    "]"
   ]
  },
  {
   "cell_type": "code",
   "execution_count": 15,
   "id": "44ca4905-806d-41d5-a728-8586434d56d5",
   "metadata": {},
   "outputs": [
    {
     "name": "stdout",
     "output_type": "stream",
     "text": [
      "Epoch 1/20\n",
      "29/29 [==============================] - ETA: 0s - loss: 0.6908 - accuracy: 0.5838\n",
      "Epoch 1: val_accuracy improved from -inf to 0.57438, saving model to weights.h5\n",
      "29/29 [==============================] - 31s 1s/step - loss: 0.6908 - accuracy: 0.5838 - val_loss: 0.6909 - val_accuracy: 0.5744\n",
      "Epoch 2/20\n",
      "29/29 [==============================] - ETA: 0s - loss: 0.6729 - accuracy: 0.6739\n",
      "Epoch 2: val_accuracy improved from 0.57438 to 0.75883, saving model to weights.h5\n",
      "29/29 [==============================] - 31s 1s/step - loss: 0.6729 - accuracy: 0.6739 - val_loss: 0.6526 - val_accuracy: 0.7588\n",
      "Epoch 3/20\n",
      "29/29 [==============================] - ETA: 0s - loss: 0.6133 - accuracy: 0.7061\n",
      "Epoch 3: val_accuracy did not improve from 0.75883\n",
      "29/29 [==============================] - 31s 1s/step - loss: 0.6133 - accuracy: 0.7061 - val_loss: 0.6346 - val_accuracy: 0.7331\n",
      "Epoch 4/20\n",
      "29/29 [==============================] - ETA: 0s - loss: 0.5444 - accuracy: 0.7401\n",
      "Epoch 4: val_accuracy improved from 0.75883 to 0.79272, saving model to weights.h5\n",
      "29/29 [==============================] - 31s 1s/step - loss: 0.5444 - accuracy: 0.7401 - val_loss: 0.5466 - val_accuracy: 0.7927\n",
      "Epoch 5/20\n",
      "29/29 [==============================] - ETA: 0s - loss: 0.4910 - accuracy: 0.7771\n",
      "Epoch 5: val_accuracy did not improve from 0.79272\n",
      "29/29 [==============================] - 31s 1s/step - loss: 0.4910 - accuracy: 0.7771 - val_loss: 0.5470 - val_accuracy: 0.7859\n",
      "Epoch 6/20\n",
      "29/29 [==============================] - ETA: 0s - loss: 0.4431 - accuracy: 0.8075\n",
      "Epoch 6: val_accuracy did not improve from 0.79272\n",
      "29/29 [==============================] - 31s 1s/step - loss: 0.4431 - accuracy: 0.8075 - val_loss: 0.6325 - val_accuracy: 0.7435\n",
      "Epoch 7/20\n",
      "29/29 [==============================] - ETA: 0s - loss: 0.4009 - accuracy: 0.8359\n",
      "Epoch 7: val_accuracy did not improve from 0.79272\n",
      "29/29 [==============================] - 31s 1s/step - loss: 0.4009 - accuracy: 0.8359 - val_loss: 0.6163 - val_accuracy: 0.7521\n",
      "Epoch 7: early stopping\n"
     ]
    }
   ],
   "source": [
    "model.compile(loss='binary_crossentropy', optimizer='adam', metrics=['accuracy'])\n",
    "history = model.fit(X_resampled, y_resampled, batch_size=512, validation_data=(x_test, y_test), epochs=20, callbacks=callbacks)"
   ]
  },
  {
   "cell_type": "code",
   "execution_count": 26,
   "id": "5a117d3e-96d3-4c57-8331-e3fc0885d4f4",
   "metadata": {},
   "outputs": [],
   "source": [
    "oversampler = RandomOverSampler(sampling_strategy='auto')"
   ]
  },
  {
   "cell_type": "code",
   "execution_count": 27,
   "id": "17972d22-ced2-41cc-8d60-4be9d4673d91",
   "metadata": {},
   "outputs": [],
   "source": [
    "X_train_oversampled = X_train.reshape(X_train.shape[0], -1)\n",
    "\n",
    "X_oversampled, y_oversampled = oversampler.fit_resample(X_train_oversampled, y_train)\n",
    "\n",
    "X_oversampled = X_oversampled.reshape(X_oversampled.shape[0], maxlen, -1)"
   ]
  },
  {
   "cell_type": "code",
   "execution_count": 29,
   "id": "c394423c-91d5-4a41-bed2-6243153e1570",
   "metadata": {},
   "outputs": [
    {
     "name": "stdout",
     "output_type": "stream",
     "text": [
      "Model: \"sequential_1\"\n",
      "_________________________________________________________________\n",
      " Layer (type)                Output Shape              Param #   \n",
      "=================================================================\n",
      " embedding_1 (Embedding)     (None, 500, 32)           160000    \n",
      "                                                                 \n",
      " lstm_1 (LSTM)               (None, 500, 32)           8320      \n",
      "                                                                 \n",
      " global_max_pooling1d_1 (Glo  (None, 32)               0         \n",
      " balMaxPooling1D)                                                \n",
      "                                                                 \n",
      " dropout_1 (Dropout)         (None, 32)                0         \n",
      "                                                                 \n",
      " dense_1 (Dense)             (None, 1)                 33        \n",
      "                                                                 \n",
      "=================================================================\n",
      "Total params: 168,353\n",
      "Trainable params: 168,353\n",
      "Non-trainable params: 0\n",
      "_________________________________________________________________\n"
     ]
    }
   ],
   "source": [
    "model = Sequential()\n",
    "model.add(Embedding(vocab_size, embedding_size, input_length=maxlen))\n",
    "model.add(LSTM(32, return_sequences=True))\n",
    "model.add(GlobalMaxPooling1D())\n",
    "model.add(Dropout(0.2))\n",
    "model.add(Dense(1, activation='sigmoid'))\n",
    "model.summary()"
   ]
  },
  {
   "cell_type": "code",
   "execution_count": 30,
   "id": "863de36f-6233-4e39-b0d0-bfe64129e037",
   "metadata": {},
   "outputs": [],
   "source": [
    "callbacks = [\n",
    "    EarlyStopping(\n",
    "        monitor='val_accuracy',\n",
    "        min_delta=1e-4,\n",
    "        patience=3,\n",
    "        verbose=1\n",
    "    ),\n",
    "    ModelCheckpoint(\n",
    "        filepath='balancing.h5',\n",
    "        monitor='val_accuracy', \n",
    "        mode='max', \n",
    "        save_best_only=True,\n",
    "        save_weights_only=True,\n",
    "        verbose=1\n",
    "    )\n",
    "]"
   ]
  },
  {
   "cell_type": "code",
   "execution_count": 31,
   "id": "86e6a8cc-dd40-4e2d-a6f3-ae300b6a9641",
   "metadata": {},
   "outputs": [
    {
     "name": "stdout",
     "output_type": "stream",
     "text": [
      "Epoch 1/20\n",
      "29/29 [==============================] - ETA: 0s - loss: 0.6878 - accuracy: 0.5958\n",
      "Epoch 1: val_accuracy improved from -inf to 0.83090, saving model to balancing.h5\n",
      "29/29 [==============================] - 31s 1s/step - loss: 0.6878 - accuracy: 0.5958 - val_loss: 0.6724 - val_accuracy: 0.8309\n",
      "Epoch 2/20\n",
      "29/29 [==============================] - ETA: 0s - loss: 0.6360 - accuracy: 0.7887\n",
      "Epoch 2: val_accuracy did not improve from 0.83090\n",
      "29/29 [==============================] - 30s 1s/step - loss: 0.6360 - accuracy: 0.7887 - val_loss: 0.6266 - val_accuracy: 0.7292\n",
      "Epoch 3/20\n",
      "29/29 [==============================] - ETA: 0s - loss: 0.5055 - accuracy: 0.8189\n",
      "Epoch 3: val_accuracy improved from 0.83090 to 0.84196, saving model to balancing.h5\n",
      "29/29 [==============================] - 31s 1s/step - loss: 0.5055 - accuracy: 0.8189 - val_loss: 0.4221 - val_accuracy: 0.8420\n",
      "Epoch 4/20\n",
      "29/29 [==============================] - ETA: 0s - loss: 0.3144 - accuracy: 0.8992\n",
      "Epoch 4: val_accuracy improved from 0.84196 to 0.86122, saving model to balancing.h5\n",
      "29/29 [==============================] - 31s 1s/step - loss: 0.3144 - accuracy: 0.8992 - val_loss: 0.3508 - val_accuracy: 0.8612\n",
      "Epoch 5/20\n",
      "29/29 [==============================] - ETA: 0s - loss: 0.2162 - accuracy: 0.9386\n",
      "Epoch 5: val_accuracy did not improve from 0.86122\n",
      "29/29 [==============================] - 31s 1s/step - loss: 0.2162 - accuracy: 0.9386 - val_loss: 0.3610 - val_accuracy: 0.8577\n",
      "Epoch 6/20\n",
      "29/29 [==============================] - ETA: 0s - loss: 0.1922 - accuracy: 0.9516\n",
      "Epoch 6: val_accuracy improved from 0.86122 to 0.87906, saving model to balancing.h5\n",
      "29/29 [==============================] - 32s 1s/step - loss: 0.1922 - accuracy: 0.9516 - val_loss: 0.3179 - val_accuracy: 0.8791\n",
      "Epoch 7/20\n",
      "29/29 [==============================] - ETA: 0s - loss: 0.1401 - accuracy: 0.9598\n",
      "Epoch 7: val_accuracy improved from 0.87906 to 0.88584, saving model to balancing.h5\n",
      "29/29 [==============================] - 31s 1s/step - loss: 0.1401 - accuracy: 0.9598 - val_loss: 0.3279 - val_accuracy: 0.8858\n",
      "Epoch 8/20\n",
      "29/29 [==============================] - ETA: 0s - loss: 0.1140 - accuracy: 0.9692\n",
      "Epoch 8: val_accuracy improved from 0.88584 to 0.88905, saving model to balancing.h5\n",
      "29/29 [==============================] - 31s 1s/step - loss: 0.1140 - accuracy: 0.9692 - val_loss: 0.3409 - val_accuracy: 0.8890\n",
      "Epoch 9/20\n",
      "29/29 [==============================] - ETA: 0s - loss: 0.0974 - accuracy: 0.9717\n",
      "Epoch 9: val_accuracy improved from 0.88905 to 0.89190, saving model to balancing.h5\n",
      "29/29 [==============================] - 31s 1s/step - loss: 0.0974 - accuracy: 0.9717 - val_loss: 0.3526 - val_accuracy: 0.8919\n",
      "Epoch 10/20\n",
      "29/29 [==============================] - ETA: 0s - loss: 0.0867 - accuracy: 0.9743\n",
      "Epoch 10: val_accuracy did not improve from 0.89190\n",
      "29/29 [==============================] - 31s 1s/step - loss: 0.0867 - accuracy: 0.9743 - val_loss: 0.3784 - val_accuracy: 0.8837\n",
      "Epoch 11/20\n",
      "29/29 [==============================] - ETA: 0s - loss: 0.0768 - accuracy: 0.9762\n",
      "Epoch 11: val_accuracy improved from 0.89190 to 0.89333, saving model to balancing.h5\n",
      "29/29 [==============================] - 31s 1s/step - loss: 0.0768 - accuracy: 0.9762 - val_loss: 0.3840 - val_accuracy: 0.8933\n",
      "Epoch 12/20\n",
      "29/29 [==============================] - ETA: 0s - loss: 0.0739 - accuracy: 0.9777\n",
      "Epoch 12: val_accuracy did not improve from 0.89333\n",
      "29/29 [==============================] - 31s 1s/step - loss: 0.0739 - accuracy: 0.9777 - val_loss: 0.3894 - val_accuracy: 0.8908\n",
      "Epoch 13/20\n",
      "29/29 [==============================] - ETA: 0s - loss: 0.0672 - accuracy: 0.9798\n",
      "Epoch 13: val_accuracy did not improve from 0.89333\n",
      "29/29 [==============================] - 31s 1s/step - loss: 0.0672 - accuracy: 0.9798 - val_loss: 0.4064 - val_accuracy: 0.8905\n",
      "Epoch 14/20\n",
      "29/29 [==============================] - ETA: 0s - loss: 0.0626 - accuracy: 0.9812\n",
      "Epoch 14: val_accuracy did not improve from 0.89333\n",
      "29/29 [==============================] - 31s 1s/step - loss: 0.0626 - accuracy: 0.9812 - val_loss: 0.4187 - val_accuracy: 0.8912\n",
      "Epoch 14: early stopping\n"
     ]
    }
   ],
   "source": [
    "model.compile(loss='binary_crossentropy', optimizer='adam', metrics=['accuracy'])\n",
    "history = model.fit(X_oversampled, y_oversampled, batch_size=512, validation_data=(x_test, y_test), epochs=20, callbacks=callbacks)"
   ]
  },
  {
   "cell_type": "code",
   "execution_count": 52,
   "id": "c5a66ca6-9053-47bd-999d-534cf51c873a",
   "metadata": {},
   "outputs": [],
   "source": [
    "model.load_weights('balancing.h5')\n",
    "model.save('model.keras')"
   ]
  },
  {
   "cell_type": "code",
   "execution_count": 53,
   "id": "ca10952b-6ccb-4072-aa61-64da06e433e1",
   "metadata": {},
   "outputs": [
    {
     "data": {
      "image/png": "[encoded data removed]",
      "text/plain": [
       "<Figure size 1200x500 with 2 Axes>"
      ]
     },
     "metadata": {},
     "output_type": "display_data"
    }
   ],
   "source": [
    "acc = history.history['accuracy']\n",
    "val_acc = history.history['val_accuracy']\n",
    "loss = history.history['loss']\n",
    "val_loss = history.history['val_loss']\n",
    "x = range(1, len(acc) + 1)\n",
    "\n",
    "plt.figure(figsize=(12, 5))\n",
    "plt.subplot(1, 2, 1)\n",
    "plt.plot(x, acc, 'b', label='Training acc')\n",
    "plt.plot(x, val_acc, 'r', label='Validation acc')\n",
    "plt.title('Training and validation accuracy')\n",
    "plt.legend()\n",
    "plt.subplot(1, 2, 2)\n",
    "plt.plot(x, loss, 'b', label='Training loss')\n",
    "plt.plot(x, val_loss, 'r', label='Validation loss')\n",
    "plt.title('Training and validation loss')\n",
    "plt.legend()\n",
    "plt.show()"
   ]
  },
  {
   "cell_type": "code",
   "execution_count": 54,
   "id": "eb1edaa1-c2fb-4bd8-b72e-6ceb9d76d1cb",
   "metadata": {},
   "outputs": [
    {
     "name": "stdout",
     "output_type": "stream",
     "text": [
      "88/88 [==============================] - 3s 33ms/step\n"
     ]
    },
    {
     "data": {
      "text/plain": [
       "<Figure size 640x480 with 0 Axes>"
      ]
     },
     "metadata": {},
     "output_type": "display_data"
    },
    {
     "data": {
      "image/png": "[encoded data removed]",
      "text/plain": [
       "<Figure size 1200x800 with 1 Axes>"
      ]
     },
     "metadata": {},
     "output_type": "display_data"
    }
   ],
   "source": [
    "preds = [round(i[0]) for i in model.predict(x_test)]\n",
    "cm = confusion_matrix(y_test, preds)\n",
    "plt.figure()\n",
    "plot_confusion_matrix(cm, figsize=(12,8), hide_ticks=True, cmap=plt.cm.Blues)\n",
    "plt.xticks(range(2), ['Not clickbait', 'Clickbait'], fontsize=16)\n",
    "plt.yticks(range(2), ['Not clickbait', 'Clickbait'], fontsize=16)\n",
    "plt.show()"
   ]
  },
  {
   "cell_type": "code",
   "execution_count": 55,
   "id": "cf81d938-8216-41ad-9b64-7f0881b96f86",
   "metadata": {},
   "outputs": [
    {
     "name": "stdout",
     "output_type": "stream",
     "text": [
      "1/1 [==============================] - 0s 38ms/step\n",
      "silencers in video games - Not Clickbait\n",
      "a night to remember - Not Clickbait\n",
      "going INSANE with the spas-12 | Rainbow Six: Siege - Clickbait\n",
      "Top 12 best food to try in Northern India - Clickbait\n",
      "I am financially ruined at 5 years old - Not Clickbait\n",
      "Metacritic AWFUL Top 100 Racing Games Ranking - Clickbait\n",
      "cum.com BEST CUMMING TECHNIQUES - Clickbait\n",
      "TOP 52 AMAZING FORTNITE BATTLEPASSES - Clickbait\n"
     ]
    }
   ],
   "source": [
    "test = ['silencers in video games', 'a night to remember', 'going INSANE with the spas-12 | Rainbow Six: Siege', 'Top 12 best food to try in Northern India', 'I am financially ruined at 5 years old', 'Metacritic AWFUL Top 100 Racing Games Ranking', 'cum.com BEST CUMMING TECHNIQUES', 'TOP 52 AMAZING FORTNITE BATTLEPASSES']\n",
    "token_text = pad_sequences(tokenizer.texts_to_sequences(test), maxlen=maxlen)\n",
    "preds = [round(i[0]) for i in model.predict(token_text)]\n",
    "for (text, pred) in zip(test, preds):\n",
    "    label = 'Clickbait' if pred == 1.0 else 'Not Clickbait'\n",
    "    print(\"{} - {}\".format(text, label))"
   ]
  },
  {
   "cell_type": "code",
   "execution_count": 56,
   "id": "2bfc5d92-07c4-45f9-961c-9e4e19c5888d",
   "metadata": {},
   "outputs": [],
   "source": [
    "model = tf.keras.models.load_model('./model.keras')"
   ]
  },
  {
   "cell_type": "code",
   "execution_count": 57,
   "id": "4dec520c-274c-4257-8a52-4fb23b8b7c70",
   "metadata": {},
   "outputs": [
    {
     "name": "stdout",
     "output_type": "stream",
     "text": [
      "Model: \"sequential_1\"\n",
      "_________________________________________________________________\n",
      " Layer (type)                Output Shape              Param #   \n",
      "=================================================================\n",
      " embedding_1 (Embedding)     (None, 500, 32)           160000    \n",
      "                                                                 \n",
      " lstm_1 (LSTM)               (None, 500, 32)           8320      \n",
      "                                                                 \n",
      " global_max_pooling1d_1 (Glo  (None, 32)               0         \n",
      " balMaxPooling1D)                                                \n",
      "                                                                 \n",
      " dropout_1 (Dropout)         (None, 32)                0         \n",
      "                                                                 \n",
      " dense_1 (Dense)             (None, 1)                 33        \n",
      "                                                                 \n",
      "=================================================================\n",
      "Total params: 168,353\n",
      "Trainable params: 168,353\n",
      "Non-trainable params: 0\n",
      "_________________________________________________________________\n"
     ]
    }
   ],
   "source": [
    "model.summary()"
   ]
  },
  {
   "cell_type": "code",
   "execution_count": 58,
   "id": "03f05f48-1575-46a1-9687-20e0c473ddc9",
   "metadata": {},
   "outputs": [
    {
     "name": "stdout",
     "output_type": "stream",
     "text": [
      "88/88 [==============================] - 3s 32ms/step - loss: 0.3840 - accuracy: 0.8933\n",
      "Restored model, accuracy: 89.33%\n"
     ]
    }
   ],
   "source": [
    "loss, acc = model.evaluate(x_test, y_test)\n",
    "print('Restored model, accuracy: {:5.2f}%'.format(100 * acc))"
   ]
  },
  {
   "cell_type": "code",
   "execution_count": null,
   "id": "d317ab41-2055-4c85-96a2-89c90c88a9ab",
   "metadata": {},
   "outputs": [],
   "source": []
  }
 ],
 "metadata": {
  "kernelspec": {
   "display_name": "Python 3 (ipykernel)",
   "language": "python",
   "name": "python3"
  },
  "language_info": {
   "codemirror_mode": {
    "name": "ipython",
    "version": 3
   },
   "file_extension": ".py",
   "mimetype": "text/x-python",
   "name": "python",
   "nbconvert_exporter": "python",
   "pygments_lexer": "ipython3",
   "version": "3.9.16"
  }
 },
 "nbformat": 4,
 "nbformat_minor": 5
}
